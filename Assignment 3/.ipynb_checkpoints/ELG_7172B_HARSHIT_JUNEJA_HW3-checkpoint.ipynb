{
 "cells": [
  {
   "cell_type": "markdown",
   "metadata": {},
   "source": [
    "<h1>ELG 7172B Assignment 3</h1>\n",
    "<h3>Submitted by:<br>Harshit Juneja<br>Student ID 300074170</h3>"
   ]
  },
  {
   "cell_type": "markdown",
   "metadata": {},
   "source": [
    "<h4>Problem 1</h4><br>\n",
    "Logistic regression with the first and second order gradient descent implemented in Python is presented\n",
    "here: https://github.com/atcemgil/notes/blob/master/LogisticRegression.ipynb . Analyze the advantages of\n",
    "using the second order gradient descent.<br><br>\n",
    "Next, perform logistic regression on one of the following realistic data set for logistic regression\n",
    "(https://data.princeton.edu/wws509/datasets/#copen) and compare results obtained using different\n",
    "gradient descent algorithms implemented in NumPy or Tensorflow.\n",
    "Problem"
   ]
  },
  {
   "cell_type": "markdown",
   "metadata": {},
   "source": [
    "<h4><u>Solution to Problem 1, part 1</u></h4><br>\n",
    "<h5>Analysis of Second Order Optimization</h5>\n",
    "\n",
    "As discussed in [1], the advantages of Newton's method are:\n",
    "* This method allows us to take advantage of properties of the cost function beyond just the gradient.\n",
    "* The Hessian matrix describes the local curvature of the function, which allows us to make a more efficient update resulting in faster convergence to the local minima\n",
    "* It does not use a learning rate. We can calculate the optimal step size using line tracking or approximate the same using Armijo backtracking [2]. Thus, we have one less hyperparameter to tune\n",
    "\n",
    "However, this method is not without disadvantages, the major challenges being that the Hessian matrix has $n^2$ terms, where n is the number of parameters of the cost function, and further, matrix inversion is a $O(n^{2.81})$ operation. [3]"
   ]
  },
  {
   "cell_type": "markdown",
   "metadata": {},
   "source": [
    "<h4><u>Solution to Problem 1, part 2</u></h4><br>\n",
    "For our demonstration of logistic regression using first and second order methods we will be using the Housing Conditions in Copenhagen dataset, which is posted at [4] and is discussed in [5]. As per the [4], the data is in a four-way table format classifying 1681 residents of twelve areas in Copenhagen. We have converted the data into a tab-delimited file and rearranged the columns slightly. The columns, in order are:\n",
    "\n",
    "* The number of respondents who gave the reponse\n",
    "* The type of housing (1=tower blocks, 2=apartments, 3=atrium houses and 4=terraced houses)\n",
    "* Respondent's feeling of influence on apartment management (1=low, 2=medium,3=high),\n",
    "* Respondent's satisfaction with housing conditions (1=low, 2=medium, 3=high)\n",
    "* Respondent's degree of contact with neighbors (1=low, 2=high)\n",
    "\n",
    "We will read this file into python using Numpy, and preprocess the data to perform logistic regression on it.\n",
    "\n",
    "We will cover the following methods:\n",
    "* Gradient Descent\n",
    "* Gradient Descent with momentum\n",
    "* Gradient Descent with Nesterov accelerated momentun\n",
    "* Gradient Descent with Newton's method"
   ]
  },
  {
   "cell_type": "code",
   "execution_count": 1,
   "metadata": {},
   "outputs": [],
   "source": [
    "#importing all the required libraries\n",
    "import numpy as np\n",
    "import matplotlib.pyplot as plt\n",
    "import corner\n",
    "from sklearn.preprocessing import minmax_scale\n",
    "from mpl_toolkits.mplot3d import Axes3D\n",
    "from sklearn.model_selection import train_test_split # we will use this to randomly split our data into two sets\n",
    "from time import perf_counter\n",
    "from scipy.stats import multivariate_normal\n",
    "%matplotlib inline"
   ]
  },
  {
   "cell_type": "code",
   "execution_count": 2,
   "metadata": {},
   "outputs": [
    {
     "name": "stdout",
     "output_type": "stream",
     "text": [
      "Housing data matrix shape (72, 5)\n",
      "First five rows of housing dataset\n",
      "number_respondents housing_type influence satisfaction neighbour_contact\n",
      " [[21.  1.  1.  1.  1.]\n",
      " [21.  1.  1.  2.  1.]\n",
      " [28.  1.  1.  3.  1.]\n",
      " [14.  1.  1.  1.  2.]\n",
      " [19.  1.  1.  2.  2.]]\n"
     ]
    }
   ],
   "source": [
    "#reading the file\n",
    "housing_data = np.genfromtxt('housing_data.tsv', delimiter='\\t')\n",
    "housing_data = housing_data[1:,] #drop the first row (headers)\n",
    "print(\"Housing data matrix shape\", housing_data.shape)\n",
    "print(\"First five rows of housing dataset\\nnumber_respondents housing_type\",\n",
    "      \"influence satisfaction neighbour_contact\\n\",  housing_data[0:5])"
   ]
  },
  {
   "cell_type": "markdown",
   "metadata": {},
   "source": [
    "Now, we will un-roll the data by removing the first column, and copying rows as per the number in the first column to get a matrix with 1681 rows and 5 columns. The first column will be all ones for our training the bias weight (this is an \"artificial\" feature added to the model to make it more robust)."
   ]
  },
  {
   "cell_type": "code",
   "execution_count": 3,
   "metadata": {},
   "outputs": [
    {
     "name": "stdout",
     "output_type": "stream",
     "text": [
      "Training subset matrix size =  (4, 1260)\n",
      "Test subset matrix size =  (4, 421)\n"
     ]
    }
   ],
   "source": [
    "housing_data_unrolled = np.ones((1681,5)) #preallocation\n",
    "k = 0\n",
    "for i in range(housing_data.shape[0]):\n",
    "    num_respondents = int(housing_data[i][0])\n",
    "    for j in range(num_respondents):\n",
    "        housing_data_unrolled[k][1:5] = housing_data[i][1:5]\n",
    "        k += 1\n",
    "housing_data_unrolled[:,4] -= 1 #change labels for neighbour contact (this will be our predicted variable)\n",
    "housing_data_unrolled_input = housing_data_unrolled[:,0:4]\n",
    "housing_data_unrolled_output = housing_data_unrolled[:,4].reshape(-1,1)\n",
    "#split data into training and validation(test) sets, 75:25\n",
    "#housing_data_train_input, housing_data_test_input = train_test_split(housing_data_unrolled_input, test_size=0.25, random_state=42)\n",
    "housing_data_train_input, housing_data_test_input, housing_data_train_output, housing_data_test_output = train_test_split(housing_data_unrolled_input, housing_data_unrolled_output, test_size=0.25, random_state=771, shuffle=True)\n",
    "#to get training input into 4x1260 matrix\n",
    "housing_data_train_input = housing_data_train_input.T\n",
    "#to get test input into 4x1260 matrix\n",
    "housing_data_test_input = housing_data_test_input.T\n",
    "print(\"Training subset matrix size = \",housing_data_train_input.shape)\n",
    "print(\"Test subset matrix size = \",housing_data_test_input.shape)\n",
    "#best random state = 2"
   ]
  },
  {
   "cell_type": "markdown",
   "metadata": {},
   "source": [
    "Our logistic regression model is\n",
    "\n",
    "\\begin{align}\n",
    "y = f(z) = \\frac{1}{1 + e^{-z}}\\tag{1}\n",
    "\\end{align}\n",
    "\n",
    "where, \n",
    "\n",
    "\\begin{align}\n",
    "z = b + w_1 * \\textrm{housing_type} + w_2 * \\textrm{influence} + w_3 * \\textrm{satisfaction}\\tag{2}\n",
    "\\end{align}\n",
    "<br>Here, $y$ is our predicted variable, whether a person has low neighbour contact (0) or high neighbour contact and $b$ is the bias term. Combining all the inputs together as matrix x, we can rewrite z as<br>\n",
    "\n",
    "\\begin{align}\n",
    "z_i = w^Tx_i + b \\tag{3}\n",
    "\\end{align}\n",
    "\n",
    "$w$ is $3{\\times}1$ vector, $w = \\begin{smallmatrix} [w_1 & w_2 & w_3]^T\\end{smallmatrix}$ and $x = \\begin{smallmatrix}[\\textrm{housing_type}_i & \\textrm{influence}_i & \\textrm{satisfaction}_i] \\end{smallmatrix}$ where $i$ is sample number.<br>\n",
    "\n",
    "To incorporate the bias term into matrix multiplication, we can rewrite $x_i$ as $\\mathbf{x_i} = \\begin{smallmatrix}[1 & \\textrm{housing_type}_i & \\textrm{influence}_i & \\textrm{satisfaction}_i] \\end{smallmatrix}$ and $w$ as $\\mathbf{w} = \\begin{smallmatrix} [w_0 & w_1 & w_2 & w_3]^T\\end{smallmatrix}$ where $w_0 = b$.<br> \n",
    "Further, we can take all our inputs together as a matrix of size $n{\\times}m$, where $n$ is the number of features per sample, and $m$ is the number of input samples. We will label this matrix as $\\mathbf{X}$. In our chosen problem, $n=4$ (3 features, plus 1 term for bias) and $m=1260$ (size of training subset).\n",
    "\n",
    "We can now rewrite equation $(3)$, where $\\mathbf{z}$ holds a row vector of size $1{\\times}m$\n",
    "\n",
    "\\begin{align}\n",
    "\\mathbf{z} = \\mathbf{w}^T\\mathbf{X} \\tag{4}\n",
    "\\end{align}\n",
    "\n",
    "<b>Maximum Likelihood estimation and cost function</b>\n",
    "\n",
    "\\begin{align}\n",
    "P(y_i=1|\\mathbf{x}_i;\\mathbf{w}) = h_\\mathbf{w}(\\mathbf{x}_i) \\tag{5.1}\\\\\n",
    "P(y_i=0|\\mathbf{x}_i;\\mathbf{w}) = 1 - h_\\mathbf{w}(\\mathbf{x}_i) \\tag{5.2}\\\\\n",
    "\\end{align}\n",
    "<br>\n",
    "Here $h_\\mathbf{w}(x)$ is the hypothesis function, telling us the probability of $y_i$ = 1, with weights w<br>\n",
    "\n",
    "Equations $(5)$ can be combined as\n",
    "\\begin{align}\n",
    "P(y_i|\\mathbf{x}_i;\\mathbf{w}) = h_\\mathbf{w}(\\mathbf{x}_i)^{y_i} [1 - h_\\mathbf{w}(\\mathbf{x}_i)]^{(1-y_i)} \\tag{6}\\\\\n",
    "\\end{align}\n",
    "\n",
    "The likelihood function is defined as\n",
    "\\begin{align}\n",
    "L(\\mathbf{w}) = \\prod_{i=1}^{m} P({y}_i|\\mathbf{x}_i;\\mathbf{w}) \\tag{7}\\\\\n",
    "L(\\mathbf{w}) = \\prod_{i=1}^{m} h_\\mathbf{w}(\\mathbf{x}_i)^{y_i} [1 - h_\\mathbf{w}(\\mathbf{x}_i)]^{(1-y_i)} \\tag{8} \\\\\n",
    "\\end{align}\n",
    "To get the best predictions, we need to maximize the likelihood function. Taking log on both sides, the log likelihood is given as:\n",
    "\\begin{align}\n",
    "log(L(\\mathbf{w})) = \\sum_{i=1}^{m} y_i * log(h_\\mathbf{w}(\\mathbf{x}_i)) + (1-y_i) * log( 1 - h_\\mathbf{w}(\\mathbf{x}_i)) \\tag{9} \\\\\n",
    "\\end{align}\n",
    "This is a concave function. To use convex optimization, we define a cost function which is the average of  the negative of log likelihood and minimize it.\n",
    "\\begin{align}\n",
    "\\mathcal{L}(\\mathbf{w}) = -\\frac{1}{m}[y_i * log(h_\\mathbf{w}(\\mathbf{x}_i)) + (1-y_i) * log( 1 - h_\\mathbf{w}(\\mathbf{x}_i))] \\tag{10}) \\\\\n",
    "\\end{align}\n",
    "<b>First order optimization - Gradient Descent</b><br><br>\n",
    "The gradients are\n",
    "\\begin{align}\n",
    "\\nabla\\mathcal{L} = \\frac{1}{m} \\sum_{1}^{m}(h_\\mathbf{w}(\\mathbf{x}_i) - y_i)\\mathbf{x}_i \\tag{11}\\\\\n",
    "\\end{align}\n",
    "Our weight update equation for gradient descent is\n",
    "\\begin{align}\n",
    "\\mathbf{w}_{t+1} = \\mathbf{w}_t - \\eta \\nabla\\mathcal{L}(\\mathbf{w}) \\tag{12}\\\\\n",
    "\\end{align}\n",
    "<br>Here $\\eta$ is the learning rate, $0<\\eta<1$, typically, we choose $\\eta$ between $0.01$ and $0.001$ <br><br>"
   ]
  },
  {
   "cell_type": "code",
   "execution_count": 4,
   "metadata": {},
   "outputs": [],
   "source": [
    "#defining sigmoid function\n",
    "def sigmoid(z):\n",
    "    return 1/(1+np.exp(-z))"
   ]
  },
  {
   "cell_type": "code",
   "execution_count": 5,
   "metadata": {
    "scrolled": true
   },
   "outputs": [
    {
     "name": "stdout",
     "output_type": "stream",
     "text": [
      "[epoch\t error] =  [1.00000000e+04 6.62326918e-01] elapsed time  0.9687092719999999\n",
      "[epoch\t error] =  [2.00000000e+04 6.62272656e-01] elapsed time  1.9211592419999999\n",
      "[epoch\t error] =  [3.00000000e+04 6.62268172e-01] elapsed time  2.8729747139999997\n",
      "[epoch\t error] =  [4.00000000e+04 6.62267801e-01] elapsed time  3.866280134\n",
      "[epoch\t error] =  [5.00000000e+04 6.62267771e-01] elapsed time  4.838819265\n",
      "[epoch\t error] =  [6.00000000e+04 6.62267768e-01] elapsed time  5.8002615209999995\n",
      "[epoch\t error] =  [7.00000000e+04 6.62267768e-01] elapsed time  6.76300281\n",
      "[epoch\t error] =  [8.00000000e+04 6.62267768e-01] elapsed time  7.729535681\n",
      "Convergence threshold reached at epoch 81837\n",
      "total time =  7.907080504\n",
      "Average time per epoch =  96.6198724782189 us\n",
      "The weights are\n",
      " [[-0.29591636]\n",
      " [ 0.27906364]\n",
      " [-0.25329184]\n",
      " [ 0.25067246]]\n"
     ]
    }
   ],
   "source": [
    "prng = np.random.RandomState(42) #seeding prng for repeatable results\n",
    "w = prng.rand(4,1) #random initialization of weights\n",
    "learning_rate = 0.01\n",
    "x = housing_data_train_input\n",
    "y = housing_data_train_output.T\n",
    "m = housing_data_train_input.shape[1]\n",
    "epochs = 100000 # upto 1,00,000 iterations\n",
    "convergence_threshold = 1e-17\n",
    "error = np.zeros((epochs,2))\n",
    "#simple gradient descent - no momentum\n",
    "prev_error = 0\n",
    "time_start = perf_counter()\n",
    "for i in range(1,epochs+1):\n",
    "    z = np.dot(w.T,x)\n",
    "    predicted_y = sigmoid(z)\n",
    "    error[i] = np.array([i, np.sum( -y*np.log(predicted_y) - (1-y)*np.log(1-predicted_y) ) / m])\n",
    "    curr_error = error[i,1]\n",
    "    if i > epochs/100 and i > 100 and abs(abs(curr_error) - abs(prev_error)) < convergence_threshold:\n",
    "        print(\"Convergence threshold reached at epoch\", i-1)\n",
    "        break\n",
    "    if(i % (epochs/10) == 0):\n",
    "        print(\"[epoch\\t error] = \", error[i],\"elapsed time \", perf_counter()-time_start)\n",
    "    #calculate gradients\n",
    "    grad_w = (1/m) * np.sum((predicted_y - y)*x, axis = 1).reshape(-1,1)\n",
    "    #calculate weight update\n",
    "    delta_w = learning_rate * grad_w\n",
    "    #update weights\n",
    "    w = w - delta_w\n",
    "    prev_error = curr_error\n",
    "time_2_converge = perf_counter()-time_start\n",
    "print(\"total time = \", time_2_converge)\n",
    "print(\"Average time per epoch = \",1000000*time_2_converge/(i-1), \"us\")\n",
    "print(\"The weights are\\n\", w)"
   ]
  },
  {
   "cell_type": "markdown",
   "metadata": {},
   "source": [
    "The training took $81,837$ epochs. Now, let us check the accuracy of our model on both training and test data and plot the cost function versus number of epochs. We use logarithmic scale on x-axis due to large number of epochs."
   ]
  },
  {
   "cell_type": "code",
   "execution_count": 6,
   "metadata": {},
   "outputs": [
    {
     "data": {
      "image/png": "[encoded data removed]",
      "text/plain": [
       "<Figure size 432x288 with 1 Axes>"
      ]
     },
     "metadata": {
      "needs_background": "light"
     },
     "output_type": "display_data"
    },
    {
     "name": "stdout",
     "output_type": "stream",
     "text": [
      "Accuracy summary of training set predictions\n",
      " [False  True] \n",
      " [489 771]\n",
      "Accuracy on training set =  61.19 %\n",
      "Accuracy summary of test set predictions\n",
      " [False  True] \n",
      " [164 257]\n",
      "Accuracy on test set =  61.05 %\n"
     ]
    }
   ],
   "source": [
    "grad_descent_error = error[0:i]\n",
    "plt.semilogx(grad_descent_error[:,0], grad_descent_error[:,1], label='gradient descent')\n",
    "plt.title('Cost function v/s number of epochs')\n",
    "plt.xlabel('Epoch')\n",
    "plt.ylabel('Cost')\n",
    "plt.legend(loc='upper right')\n",
    "plt.show()\n",
    "\n",
    "z = np.dot(w.T,housing_data_train_input)\n",
    "y2 = sigmoid(z)\n",
    "for j in range(y2.shape[1]):\n",
    "    if y2[0,j] > 0.5:\n",
    "        y2[0,j] = 1\n",
    "    else:\n",
    "        y2[0,j] = 0\n",
    "correct_prediction = y2 == housing_data_train_output.T\n",
    "unique, counts = np.unique(correct_prediction, return_counts=True)\n",
    "print(\"Accuracy summary of training set predictions\\n\", unique, \"\\n\", counts)\n",
    "print(\"Accuracy on training set = \",round(100*counts[1]/housing_data_train_output.shape[0],2),\"%\")\n",
    "z = np.dot(w.T,housing_data_test_input)\n",
    "y2 = sigmoid(z)\n",
    "for j in range(y2.shape[1]):\n",
    "    if y2[0,j] > 0.5:\n",
    "        y2[0,j] = 1\n",
    "    else:\n",
    "        y2[0,j] = 0\n",
    "correct_prediction = y2 == housing_data_test_output.T\n",
    "unique, counts = np.unique(correct_prediction, return_counts=True)\n",
    "print(\"Accuracy summary of test set predictions\\n\", unique, \"\\n\", counts)\n",
    "print(\"Accuracy on test set = \",round(100*counts[1]/housing_data_test_output.shape[0],2),\"%\")"
   ]
  },
  {
   "cell_type": "markdown",
   "metadata": {},
   "source": [
    "<b>First order optimization - Gradient Descent with momentum</b>\n",
    "\n",
    "In this method, we add a momentum term to the update vector. A fraction of the previous epoch's update vector is added to the current epoch's update vector. Our update equations are:\n",
    "\n",
    "$$\\mathbf{v}_t = \\gamma * \\mathbf{v}_{t-1} + \\eta\\nabla\\mathcal{L}(\\mathbf{w}) \\tag{13}$$\n",
    "\n",
    "$$\\mathbf{w}_{t+1} = \\mathbf{w}_t - v_t \\tag{14}$$\n",
    "\n",
    "This allows for larger updates at the beginning of the optimization process. We have a new update hyperparameter, $0< \\gamma \\leq 1$. Typically, we begin with $\\gamma = 0.9$ and then lower it if needed [6]."
   ]
  },
  {
   "cell_type": "code",
   "execution_count": 7,
   "metadata": {},
   "outputs": [
    {
     "name": "stdout",
     "output_type": "stream",
     "text": [
      "Convergence threshold reached at epoch 9116\n",
      "total time =  0.8866047170000009\n",
      "Average time per epoch =  97.258086551119 us\n",
      "The weights are\n",
      " [[-0.29592534]\n",
      " [ 0.27906508]\n",
      " [-0.25329051]\n",
      " [ 0.25067385]]\n"
     ]
    }
   ],
   "source": [
    "prng = np.random.RandomState(42) #seeding prng for repeatable results\n",
    "w = prng.rand(4,1) #random initialization of weights\n",
    "p = np.zeros((4,1))\n",
    "p_prev = np.zeros((4,1))\n",
    "delta_w = np.zeros((4,1))\n",
    "learning_rate = 0.01\n",
    "gamma = 0.9\n",
    "x = housing_data_train_input\n",
    "y = housing_data_train_output.T\n",
    "m = housing_data_train_input.shape[1]\n",
    "epochs = 100000 # upto 1,00,000 iterations\n",
    "convergence_threshold = 1e-17\n",
    "error = np.zeros((epochs,2))\n",
    "#simple gradient descent - no momentum\n",
    "prev_error = 0\n",
    "time_start = perf_counter()\n",
    "for i in range(1,epochs+1):\n",
    "    z = np.dot(w.T,x) \n",
    "    predicted_y = sigmoid(z)\n",
    "    error[i] = np.array([i, np.sum( -y*np.log(predicted_y) - (1-y)*np.log(1-predicted_y) ) / m])\n",
    "    curr_error = error[i,1]\n",
    "    if i > epochs/100 and i > 100 and abs(abs(curr_error) - abs(prev_error)) < convergence_threshold:\n",
    "        print(\"Convergence threshold reached at epoch\", i-1)\n",
    "        break\n",
    "    if(i % (epochs/10) == 0):\n",
    "        print(\"[epoch\\t error] = \", error[i],\"elapsed time \", perf_counter()-time_start)\n",
    "    #calculate gradients\n",
    "    grad_w = (1/m) * np.sum((predicted_y - y)*x, axis = 1).reshape(-1,1)\n",
    "    #calculate momentum\n",
    "    p = gamma * p_prev + learning_rate * grad_w\n",
    "    #update weights\n",
    "    w = w - p\n",
    "    p_prev = p\n",
    "    prev_error = curr_error\n",
    "time_2_converge = perf_counter()-time_start\n",
    "print(\"total time = \", time_2_converge)\n",
    "print(\"Average time per epoch = \",1000000*time_2_converge/(i-1), \"us\")\n",
    "print(\"The weights are\\n\", w)"
   ]
  },
  {
   "cell_type": "markdown",
   "metadata": {},
   "source": [
    "We get the same weights as before but in almost half the epochs. It took only $9,116$ epochs to converge which is $11.14 \\%$ of simple gradient descent (our baseline).\n",
    "<br>\n",
    "We will again check the accuracy of our model on both training and test data. Further, we plot all cost functions v/s epochs to compare. We use logarithmic scale on x-axis due to large number of epochs."
   ]
  },
  {
   "cell_type": "code",
   "execution_count": 8,
   "metadata": {},
   "outputs": [
    {
     "data": {
      "image/png": "[encoded data removed]",
      "text/plain": [
       "<Figure size 432x288 with 1 Axes>"
      ]
     },
     "metadata": {
      "needs_background": "light"
     },
     "output_type": "display_data"
    },
    {
     "name": "stdout",
     "output_type": "stream",
     "text": [
      "Accuracy summary of training set predictions\n",
      " [False  True] \n",
      " [489 771]\n",
      "Accuracy on training set =  61.19 %\n",
      "Accuracy summary of test set predictions\n",
      " [False  True] \n",
      " [164 257]\n",
      "Accuracy on test set =  61.05 %\n"
     ]
    }
   ],
   "source": [
    "grad_descent_momentum_error = error[0:i]\n",
    "plt.semilogx(grad_descent_error[:,0], grad_descent_error[:,1], label='gradient descent')\n",
    "plt.semilogx(grad_descent_momentum_error[:,0], grad_descent_momentum_error[:,1], label='gradient descent: momentum', c = 'black')\n",
    "plt.title('Cost function v/s number of epochs')\n",
    "plt.xlabel('Epoch')\n",
    "plt.ylabel('Cost')\n",
    "plt.legend(loc='upper right')\n",
    "plt.show()\n",
    "\n",
    "z = np.dot(w.T,housing_data_train_input)\n",
    "y2 = sigmoid(z)\n",
    "for j in range(y2.shape[1]):\n",
    "    if y2[0,j] > 0.5:\n",
    "        y2[0,j] = 1\n",
    "    else:\n",
    "        y2[0,j] = 0\n",
    "correct_prediction = y2 == housing_data_train_output.T\n",
    "unique, counts = np.unique(correct_prediction, return_counts=True)\n",
    "print(\"Accuracy summary of training set predictions\\n\", unique, \"\\n\", counts)\n",
    "print(\"Accuracy on training set = \",round(100*counts[1]/housing_data_train_output.shape[0],2),\"%\")\n",
    "z = np.dot(w.T,housing_data_test_input)\n",
    "y2 = sigmoid(z)\n",
    "for j in range(y2.shape[1]):\n",
    "    if y2[0,j] > 0.5:\n",
    "        y2[0,j] = 1\n",
    "    else:\n",
    "        y2[0,j] = 0\n",
    "correct_prediction = y2 == housing_data_test_output.T\n",
    "unique, counts = np.unique(correct_prediction, return_counts=True)\n",
    "print(\"Accuracy summary of test set predictions\\n\", unique, \"\\n\", counts)\n",
    "print(\"Accuracy on test set = \",round(100*counts[1]/housing_data_test_output.shape[0],2),\"%\")"
   ]
  },
  {
   "cell_type": "markdown",
   "metadata": {},
   "source": [
    "<b>First order optimization - Gradient Descent with Nesterov accelerated momentum</b>\n",
    "\n",
    "Nesterov Accelerated Gradient [7] is an improvement over momentum. In this method, we predict the parameters for the next iteration and take a gradient with respect to this prediction. This allows a better update and thus faster convergence. Our update equations are:\n",
    "\n",
    "$$\\mathbf{v}_t = \\gamma * \\mathbf{v}_{t-1} + \\eta\\nabla\\mathcal{L}(\\mathbf{w} - \\gamma * \\mathbf{v}_{t-1}) \\tag{15}$$\n",
    "\n",
    "$$\\mathbf{w}_{t+1} = \\mathbf{w}_t - \\mathbf{v_t} \\tag{16}$$"
   ]
  },
  {
   "cell_type": "code",
   "execution_count": 9,
   "metadata": {},
   "outputs": [
    {
     "name": "stdout",
     "output_type": "stream",
     "text": [
      "Convergence threshold reached at epoch 4875\n",
      "total time =  0.48040998499999965\n",
      "Average time per epoch =  98.54563794871787 us\n",
      "The weights are\n",
      " [[-0.29592626]\n",
      " [ 0.27906523]\n",
      " [-0.25329037]\n",
      " [ 0.25067399]]\n"
     ]
    }
   ],
   "source": [
    "prng = np.random.RandomState(42) #seeding prng for repeatable results\n",
    "w = prng.rand(4,1) #random initialization of weights\n",
    "p = np.zeros((4,1))\n",
    "p_prev = np.zeros((4,1))\n",
    "delta_w = np.zeros((4,1))\n",
    "learning_rate = 0.01\n",
    "gamma = 0.9\n",
    "x = housing_data_train_input\n",
    "y = housing_data_train_output.T\n",
    "m = housing_data_train_input.shape[1]\n",
    "epochs = 100000 # upto 1,00,000 iterations\n",
    "convergence_threshold = 1e-17\n",
    "error = np.zeros((epochs,2))\n",
    "#simple gradient descent - no momentum\n",
    "prev_error = 0\n",
    "time_start = perf_counter()\n",
    "for i in range(1,epochs+1):\n",
    "    w = w - gamma * p_prev #Nesterov parameter prediction\n",
    "    z = np.dot(w.T,x)\n",
    "    predicted_y = sigmoid(z)\n",
    "    error[i] = np.array([i, np.sum( -y*np.log(predicted_y) - (1-y)*np.log(1-predicted_y) ) / m])\n",
    "    curr_error = error[i,1]\n",
    "    if i > epochs/100 and i > 100 and abs(abs(curr_error) - abs(prev_error)) < convergence_threshold:\n",
    "        print(\"Convergence threshold reached at epoch\", i-1)\n",
    "        break\n",
    "    if(i % (epochs/10) == 0):\n",
    "        print(\"[epoch\\t error] = \", error[i],\"elapsed time \", perf_counter()-time_start)\n",
    "    #calculate gradients\n",
    "    grad_w = (1/m) * np.sum((predicted_y - y)*x, axis = 1).reshape(-1,1)\n",
    "    #calculate momentum\n",
    "    p = gamma * p_prev + learning_rate * grad_w\n",
    "    #update weights\n",
    "    w = w - p\n",
    "    p_prev = p\n",
    "    prev_error = curr_error\n",
    "time_2_converge = perf_counter()-time_start\n",
    "print(\"total time = \", time_2_converge)\n",
    "print(\"Average time per epoch = \",1000000*time_2_converge/(i-1), \"us\")\n",
    "print(\"The weights are\\n\", w)"
   ]
  },
  {
   "cell_type": "markdown",
   "metadata": {},
   "source": [
    "Nesterov accelerated gradient is about twice as fast as momentum. It took $4,875$ epochs which is $5.96 \\%$ of of the baseline.\n",
    "<br>\n",
    "We will again check the accuracy of our model on both training and test data. Further, we plot all cost functions v/s epochs to compare. We use logarithmic scale on x-axis due to large number of epochs."
   ]
  },
  {
   "cell_type": "code",
   "execution_count": 10,
   "metadata": {},
   "outputs": [
    {
     "data": {
      "image/png": "[encoded data removed]",
      "text/plain": [
       "<Figure size 432x288 with 1 Axes>"
      ]
     },
     "metadata": {
      "needs_background": "light"
     },
     "output_type": "display_data"
    },
    {
     "name": "stdout",
     "output_type": "stream",
     "text": [
      "Accuracy summary of training set predictions\n",
      " [False  True] \n",
      " [489 771]\n",
      "Accuracy on training set =  61.19 %\n",
      "Accuracy summary of test set predictions\n",
      " [False  True] \n",
      " [164 257]\n",
      "Accuracy on test set =  61.05 %\n"
     ]
    }
   ],
   "source": [
    "nesterov_momentum_error = error[0:i]\n",
    "plt.semilogx(grad_descent_error[:,0], grad_descent_error[:,1], label='gradient descent')\n",
    "plt.semilogx(grad_descent_momentum_error[:,0], grad_descent_momentum_error[:,1], label='gradient descent: momentum', c = 'black')\n",
    "plt.semilogx(nesterov_momentum_error[:,0], nesterov_momentum_error[:,1], label='gradient descent: nesterov momentum', c = 'orange')\n",
    "plt.title('Cost function v/s number of epochs')\n",
    "plt.xlabel('Epoch')\n",
    "plt.ylabel('Cost')\n",
    "plt.legend(loc='upper right')\n",
    "plt.show()\n",
    "\n",
    "z = np.dot(w.T,housing_data_train_input)\n",
    "y2 = sigmoid(z)\n",
    "for j in range(y2.shape[1]):\n",
    "    if y2[0,j] > 0.5:\n",
    "        y2[0,j] = 1\n",
    "    else:\n",
    "        y2[0,j] = 0\n",
    "correct_prediction = y2 == housing_data_train_output.T\n",
    "unique, counts = np.unique(correct_prediction, return_counts=True)\n",
    "print(\"Accuracy summary of training set predictions\\n\", unique, \"\\n\", counts)\n",
    "print(\"Accuracy on training set = \",round(100*counts[1]/housing_data_train_output.shape[0],2),\"%\")\n",
    "z = np.dot(w.T,housing_data_test_input)\n",
    "y2 = sigmoid(z)\n",
    "for j in range(y2.shape[1]):\n",
    "    if y2[0,j] > 0.5:\n",
    "        y2[0,j] = 1\n",
    "    else:\n",
    "        y2[0,j] = 0\n",
    "correct_prediction = y2 == housing_data_test_output.T\n",
    "unique, counts = np.unique(correct_prediction, return_counts=True)\n",
    "print(\"Accuracy summary of test set predictions\\n\", unique, \"\\n\", counts)\n",
    "print(\"Accuracy on test set = \",round(100*counts[1]/housing_data_test_output.shape[0],2),\"%\")"
   ]
  },
  {
   "cell_type": "markdown",
   "metadata": {},
   "source": [
    "<b>Second order optimization - Gradient Descent with Newton-Raphson method</b><br><br>\n",
    "Newton-Raphson uses the derivative of the gradient, that is, a second order derivative of the error function to rapidly converge to the minima.\n",
    "\n",
    "The update equation in Newton-Raphson method is\n",
    "\n",
    "$$\\mathbf{w}_{t+1} = \\mathbf{w}_{t} - \\alpha [\\nabla^2\\mathcal{L}(\\mathbf{w})]^{-1}\\nabla \\mathcal{L}(\\mathbf{w})) \\tag{17}$$\n",
    "\n",
    "<br>$\\alpha$ is an adaptive step size, that is, we reduce the value of alpha if the error increases rather than decrease to ensure that our model converges.\n",
    "\n",
    "$\\nabla^2\\mathcal{L}(\\mathbf{w})$ is the Hessian matrix, $H$.\n",
    "It consists of mixed second order partial derivatives of the loss function:\n",
    "\n",
    "$$H = \n",
    "\\begin{bmatrix}\n",
    "\\frac{\\partial^2 \\mathcal{L}}{\\partial w_1^2} & \\frac{\\partial^2 \\mathcal{L}}{\\partial w_1 \\partial w_2} & \\dots &\\frac{\\partial^2 \\mathcal{L}}{\\partial w_1 \\partial w_n} \\\\\n",
    "\\frac{\\partial^2 \\mathcal{L}}{\\partial w_2 \\partial w_1} & \\frac{\\partial^2 \\mathcal{L}}{\\partial w_2^2} & \\dots & \\frac{\\partial^2 \\mathcal{L}}{\\partial w_2 \\partial w_n} \\\\\n",
    "\\vdots & \\vdots  & \\ddots & \\vdots \\\\\n",
    "\\frac{\\partial^2 \\mathcal{L}}{\\partial w_n \\partial w_1} & \\frac{\\partial^2 \\mathcal{L}}{\\partial w_n \\partial w_2} & \\dots & \\frac{\\partial^2 \\mathcal{L}}{\\partial w_n^2} \\tag{18}\n",
    "\\end{bmatrix}\n",
    "$$"
   ]
  },
  {
   "cell_type": "code",
   "execution_count": 11,
   "metadata": {},
   "outputs": [
    {
     "name": "stdout",
     "output_type": "stream",
     "text": [
      "Convergence threshold reached at epoch 1000\n",
      "total time =  0.30795596699999983\n",
      "Average time per epoch =  307.9559669999998 us\n",
      "The weights are\n",
      " [[-0.29592853]\n",
      " [ 0.2790656 ]\n",
      " [-0.25329003]\n",
      " [ 0.25067434]]\n"
     ]
    }
   ],
   "source": [
    "prng = np.random.RandomState(42) #seeding prng for repeatable results\n",
    "w = prng.rand(4,1) #random initialization of weights\n",
    "p = np.zeros((4,1))\n",
    "delta_w = np.zeros((4,1))\n",
    "H = np.zeros((4,4))\n",
    "step_size = 0.02\n",
    "x = housing_data_train_input\n",
    "y = housing_data_train_output.T\n",
    "m = housing_data_train_input.shape[1]\n",
    "epochs = 100000 # upto 1,00,000 iterations\n",
    "convergence_threshold = 1e-17\n",
    "error = np.zeros((epochs,2))\n",
    "#simple gradient descent - no momentum\n",
    "prev_error = 0\n",
    "time_start = perf_counter()\n",
    "for i in range(1,epochs+1):\n",
    "    z = np.dot(w.T,x) \n",
    "    predicted_y = sigmoid(z)\n",
    "    error[i] = np.array([i, np.sum( -y*np.log(predicted_y) - (1-y)*np.log(1-predicted_y) ) / m])\n",
    "    curr_error = error[i,1]\n",
    "    if i>0 and curr_error > prev_error:\n",
    "        step_size = 0.9*step_size\n",
    "    if i > epochs/100 and i > 100 and abs(abs(curr_error) - abs(prev_error)) < convergence_threshold:\n",
    "        print(\"Convergence threshold reached at epoch\", i-1)\n",
    "        break\n",
    "    if(i % (epochs/10) == 0):\n",
    "        print(\"[epoch\\t error] = \", error[i],\"elapsed time \", perf_counter()-time_start)\n",
    "    #calculate gradients\n",
    "    grad_w = (1/m) * np.sum((predicted_y - y)*x, axis = 1).reshape(-1,1)\n",
    "    #calculate hessian\n",
    "    k = predicted_y*(1 - predicted_y)\n",
    "    for i in range(H.shape[0]):\n",
    "        for j in range(H.shape[1]):\n",
    "            H[i,j] = (1/m) * np.sum(k * x[i].reshape(1,-1) * x[j].reshape(1,-1))\n",
    "    H_inv = np.linalg.inv(H)\n",
    "    #calculate weight update\n",
    "    delta_w = np.dot(H_inv, grad_w)\n",
    "    #update weights\n",
    "    w = w - step_size*delta_w\n",
    "    prev_error = curr_error\n",
    "time_2_converge = perf_counter()-time_start\n",
    "print(\"total time = \", time_2_converge)\n",
    "print(\"Average time per epoch = \",1000000*time_2_converge/(i-1), \"us\")\n",
    "print(\"The weights are\\n\", w)"
   ]
  },
  {
   "cell_type": "markdown",
   "metadata": {},
   "source": [
    "With Newton-Raphson method, our logistic regression converged in $1,000$ epochs which is $1.22 \\%$ of of the baseline!\n",
    "<br>\n",
    "We will again check the accuracy of our model on both training and test data. Further, we plot all cost functions v/s epochs to compare. We use logarithmic scale on x-axis due to large number of epochs."
   ]
  },
  {
   "cell_type": "code",
   "execution_count": 12,
   "metadata": {},
   "outputs": [
    {
     "data": {
      "image/png": "[encoded data removed]",
      "text/plain": [
       "<Figure size 432x288 with 1 Axes>"
      ]
     },
     "metadata": {
      "needs_background": "light"
     },
     "output_type": "display_data"
    },
    {
     "name": "stdout",
     "output_type": "stream",
     "text": [
      "Accuracy summary of training set predictions\n",
      " [False  True] \n",
      " [489 771]\n",
      "Accuracy on training set =  61.19 %\n",
      "Accuracy summary of test set predictions\n",
      " [False  True] \n",
      " [164 257]\n",
      "Accuracy on test set =  61.05 %\n"
     ]
    }
   ],
   "source": [
    "newton_method_error = error[0:i]\n",
    "plt.semilogx(grad_descent_error[:,0], grad_descent_error[:,1], label='gradient descent')\n",
    "plt.semilogx(grad_descent_momentum_error[:,0], grad_descent_momentum_error[:,1], label='gradient descent: momentum', c = 'black')\n",
    "plt.semilogx(nesterov_momentum_error[:,0], nesterov_momentum_error[:,1], label='gradient descent: nesterov momentum', c = 'orange')\n",
    "plt.semilogx(newton_method_error[:,0], newton_method_error[:,1], label='gradient descent: newton\\'s method', c = 'green')\n",
    "plt.title('Cost function v/s number of epochs')\n",
    "plt.xlabel('Epoch')\n",
    "plt.ylabel('Cost')\n",
    "plt.legend(loc='upper right')\n",
    "plt.show()\n",
    "\n",
    "z = np.dot(w.T,housing_data_train_input)\n",
    "y2 = sigmoid(z)\n",
    "for j in range(y2.shape[1]):\n",
    "    if y2[0,j] > 0.5:\n",
    "        y2[0,j] = 1\n",
    "    else:\n",
    "        y2[0,j] = 0\n",
    "correct_prediction = y2 == housing_data_train_output.T\n",
    "unique, counts = np.unique(correct_prediction, return_counts=True)\n",
    "print(\"Accuracy summary of training set predictions\\n\", unique, \"\\n\", counts)\n",
    "print(\"Accuracy on training set = \",round(100*counts[1]/housing_data_train_output.shape[0],2),\"%\")\n",
    "z = np.dot(w.T,housing_data_test_input)\n",
    "y2 = sigmoid(z)\n",
    "for j in range(y2.shape[1]):\n",
    "    if y2[0,j] > 0.5:\n",
    "        y2[0,j] = 1\n",
    "    else:\n",
    "        y2[0,j] = 0\n",
    "correct_prediction = y2 == housing_data_test_output.T\n",
    "unique, counts = np.unique(correct_prediction, return_counts=True)\n",
    "print(\"Accuracy summary of test set predictions\\n\", unique, \"\\n\", counts)\n",
    "print(\"Accuracy on test set = \",round(100*counts[1]/housing_data_test_output.shape[0],2),\"%\")"
   ]
  },
  {
   "cell_type": "markdown",
   "metadata": {},
   "source": [
    "<h3>Summary of Gradient Methods</h3>\n",
    "\n",
    "<table style=\"width:99%\">\n",
    "  <tr>\n",
    "    <th>Metric</th>\n",
    "    <th>Gradient Descent</th>\n",
    "    <th>Gradient Descent: First-Order Momentum</th>\n",
    "    <th>Gradient Descent: Nesterov Momentum</th>\n",
    "    <th>Gradient Descent: Newton-Raphson Method</th>\n",
    "  </tr>\n",
    "  <tr>\n",
    "    <td>Epochs to Convergence</td>\n",
    "    <td>$81,837$</td>\n",
    "    <td>$9,116$</td>\n",
    "    <td>$4,875$</td>\n",
    "    <td>$1,000$</td>\n",
    "  </tr>\n",
    "  <tr>\n",
    "    <td>Epochs to Convergence (percent of baseline)</td>\n",
    "    <td>$100 \\%$ (baseline)</td>\n",
    "    <td>$11.14 \\%$</td>\n",
    "    <td>$5.96 \\%$</td>\n",
    "    <td>$1,000$</td>\n",
    "  </tr>\n",
    "  <tr>\n",
    "    <td>Time to convergence (seconds)</td>\n",
    "    <td>$7.44$</td>\n",
    "    <td>$0.85$</td>\n",
    "    <td>$0.46$</td>\n",
    "    <td>$0.30$</td>\n",
    "  </tr>\n",
    "  <tr>\n",
    "    <td>Average time per epoch ($\\mu s$)</td>\n",
    "    <td>$91$</td>\n",
    "    <td>$93$</td>\n",
    "    <td>$94$</td>\n",
    "    <td>$298$</td>\n",
    "  </tr>\n",
    "    <td>Hyperparameters</td>\n",
    "    <td>$\\eta = 0.01$</td>\n",
    "    <td>$\\eta = 0.01, \\gamma = 0.9$</td>\n",
    "    <td>$\\eta = 0.01, \\gamma = 0.9$</td>\n",
    "    <td>Step size $ = 0.02$</td>\n",
    "  </tr>\n",
    "  <tr>\n",
    "    <td>Training accuracy</td>\n",
    "    <td>$61.19 \\%$</td>\n",
    "    <td>$61.19 \\%$</td>\n",
    "    <td>$61.19 \\%$</td>\n",
    "    <td>$61.19 \\%$</td>\n",
    "  </tr>\n",
    "  <tr>\n",
    "    <td>Test accuracy</td>\n",
    "    <td>$61.05 \\%$</td>\n",
    "    <td>$61.05 \\%$</td>\n",
    "    <td>$61.05 \\%$</td>\n",
    "    <td>$61.05 \\%$</td>\n",
    "  </tr>\n",
    "  </tr>\n",
    "</table>\n",
    "\n",
    "<u>Please Note:</u> The execution time depends on a multitude of factors including but not limited to the specification, configuration, and the background workload on a computer. Therefore, the time figures in the table above may not match between any two executions of this notebook."
   ]
  },
  {
   "cell_type": "markdown",
   "metadata": {},
   "source": [
    "---"
   ]
  },
  {
   "cell_type": "markdown",
   "metadata": {},
   "source": [
    "<h4>Problem 3</h4><br>\n",
    "\n",
    "The goal of this example is to demonstrate the application of the EM algorithm in the context of the Gaussian mixture modeling. The data are generated according to three Gaussians in the two-dimensional space, with parameters,<br>\n",
    "\n",
    "$\\mu_1 = \\begin{bmatrix} 10 & 3\\end{bmatrix}^T$, $\\mu_2 = \\begin{bmatrix} 1 & 1\\end{bmatrix}^T$, $\\mu_3 = \\begin{bmatrix} 5 & 4\\end{bmatrix}^T$\n",
    "<br><br>and<br><br>\n",
    "$\\Sigma_1 = \\begin{bmatrix} 1 & 0 \\\\ 0 & 1\\end{bmatrix}$,\n",
    "$\\Sigma_2 = \\begin{bmatrix} 1.5 & 0 \\\\ 0 & 1.5\\end{bmatrix}$,\n",
    "$\\Sigma_3 = \\begin{bmatrix} 2 & 0 \\\\ 0 & 2\\end{bmatrix}$\n",
    "\n",
    "<br>a) Derive EM algorithm.\n",
    "<br>b) Implement it in Python. The number of the generated points is 300 with 100 points per mixture.\n",
    "Your initial values for EM algorithm are:<br><br>\n",
    "$\\mu_1^{(0)} = \\begin{bmatrix} 3 & 5\\end{bmatrix}^T$, $\\mu_2^{(0)} = \\begin{bmatrix} 2 & 0.4\\end{bmatrix}^T$, $\\mu_3^{(0)} = \\begin{bmatrix} 4 & 3\\end{bmatrix}^T$,\n",
    "<br><br>\n",
    "$\\Sigma_1 = \\Sigma_2 = \\Sigma_3 = \\begin{bmatrix} 1 & 0 \\\\ 0 & 1\\end{bmatrix}$\n",
    "<br><br>c) Analyze dependence on the good initialization for the EM algorithm. Run the algorithm with the\n",
    "same initial values for the covariance but the following initial values for the mean:<br><br>\n",
    "$\\mu_1^{(0)} = \\begin{bmatrix} 10 & 13\\end{bmatrix}^T$, $\\mu_2^{(0)} = \\begin{bmatrix} 11 & 12\\end{bmatrix}^T$, $\\mu_3^{(0)} = \\begin{bmatrix} 13 & 11\\end{bmatrix}^T$\n",
    "\n",
    "<h4><u>Solution to Problem 3, part a)</u></h4><br>\n",
    "\n",
    "A Gaussian Mixture is a function comprised Gaussians, where each data point $\\mathbf{x}_n$ is generated by a different underlying Gaussian distribution specified by a hidden variable $z_n \\in {1,\\dots,K}$ where $K$ is the number of clusters. Since we do not know $z_n$, we used Expectation Maximization (EM) algorithm to estimate the hidden variables, and effectively partition our data into clusters. For each Gaussian, there are parameters:\n",
    "* Mean, $\\mu$\n",
    "* Covariance Matrix, $\\Sigma$\n",
    "* Mixing probability, $\\pi$\n",
    "\n",
    "For mixing probabilities,\n",
    "$$\\sum_{k=1}^K \\pi_k = 1 \\tag{19}$$\n",
    "\n",
    "To find the optimal values for the above parameters, we need to maximize the log-likelihood of the observed data.\n",
    "\n",
    "In general, a Gaussian distribition is given by:\n",
    "$$\\mathcal{N}(\\mathbf{x}|\\mu,\\Sigma) = \\frac{1}{(2\\pi)^{D/2}|\\Sigma|^{1/2}}e^{-\\frac{1}{2}(\\mathbf{x} - \\mu)^T \\Sigma^{-1}(\\mathbf{x} - \\mu)} \\tag{20}$$\n",
    "\n",
    "Here $\\mathbf{x}$ are our data points, $D$ is the number of dimensions for each point, and $\\mu$ and $\\Sigma$ are, respectively, mean and covariance. To find the Maximum Likelihood Estimates (MLE), we can differentiate equation $(20)$ with respect to $\\mu$ and $\\Sigma$ and set the derivative to zero. But first, some notation.<br>\n",
    "Probability that data point $\\mathbf{x}_n$ came from Gaussian $k$<br><br>\n",
    "$$p(z_{nk} = 1| \\mathbf{x}_n), z_{nk} \\in \\{0,1\\} \\tag{21}$$\n",
    "<br>If $\\mathbf{x} \\in z, p(z) = 1$ otherwise $p(z) = 0$. Similarly,<br>\n",
    "$$\\pi_k = p(z_k = 1) \\tag{22}$$\n",
    "Now, let $\\mathbf{z} = \\{z_1,\\dots,z_K\\}$ be the set of all hidden variables.\n",
    "$$p(\\mathbf{z}) = p(z_1 = 1)^{z_1}p(z_2 = 1)^{z_2}\\dots p(z_K = 1)^{z_K} = \\prod_{k=1}^{K} \\pi_k^{z_k} \\tag{23}$$\n",
    "<br> Probability of observing the data $\\mathbf{x}_n$ if we know that it comes from Gaussian k is given by Gaussian pmf\n",
    "$$p(\\mathbf{x}_n|\\mathbf{z}) = \\prod_{k=1}^{K}\\mathcal{N}(\\mathbf{x}_n|\\mu_k,\\Sigma_k)^{z_k} \\tag{24}$$\n",
    "<br>$$p(\\mathbf{x}_n) = \\sum_{k=1}^K p(\\mathbf{x}_n|\\mathbf{z})p(\\mathbf{z}) =  \\sum_{k=1}^K \\pi_k\\mathcal{N}(\\mathbf{x}_n|\\mu_k,\\Sigma_k) \\tag{25}$$\n",
    "<br>To determine optimal values for our parameters, we need to find the maximum likelihood of the model. The likelihood is the joint probability of all observations $\\mathbf{x}_n$, defined as:\n",
    "$$p(\\mathbf{X}) = \\prod_{k=1}^{K} p(\\mathbf{x}_n) = \\prod_{k=1}^{K}\\sum_{k=1}^K \\pi_k\\mathcal{N}(\\mathbf{x}_n|\\mu_k,\\Sigma_k) \\tag{26} $$\n",
    "<br>Taking log on both sides, \n",
    "$$ \\log p(\\mathbf{X}) = \\sum_{k=1}^{K}log\\sum_{k=1}^K \\pi_k\\mathcal{N}(\\mathbf{x}_n|\\mu_k,\\Sigma_k) \\tag{27} $$\n",
    "\n",
    "<br>This is our function to maximize. However, since we cannot push log inside the sum, this is hard to compute. Therfore, we use EM algorithm.<br>From Bayes theorem, we can write<br>\n",
    "$$p(\\mathbf{z}_k = 1|\\mathbf{x}_n) = \\frac{p(\\mathbf{x}_n|\\mathbf{z}_k = 1)p(\\mathbf{z}_k =1)}{p(\\mathbf{x}_n, \\mathbf{z}_k=1)}  = \\frac{p(\\mathbf{x}_n|\\mathbf{z}_k = 1)p(\\mathbf{z}_k =1)}{\\sum_{j=1}^K p(\\mathbf{x}_n|\\mathbf{z_j}=1)p(\\mathbf{z_j}=1)}\\tag{28}$$\n",
    "<br>Using equations $(22)$,$(24)$ and $(25)$, we can rewrite $(28)$ as <br>\n",
    "$$p(\\mathbf{z}_k = 1 |\\mathbf{x}_n) = \\frac{\\pi_k\\mathcal{N}(\\mathbf{x}_n|\\mu_k,\\Sigma_k)}{\\sum_{j=1}^K \\pi_j\\mathcal{N}(\\mathbf{x}_n|\\mu_j,\\Sigma_j)} =\\gamma(z_{nk}) \\tag{29}$$\n",
    "<br>\n",
    "The parameters of mode are $\\theta = \\{\\pi,\\mu,\\Sigma\\}$\n",
    "\n",
    "<h6>Expectation Step</h6>\n",
    "\n",
    "Evaluate $p(\\mathbf{Z}|\\mathbf{X},\\theta)$. We will calculate<br>\n",
    "$$p(\\mathbf{z}_{nk}|\\mathbf{X},\\theta) = \\mathbb{E}[z_{nk}] = \\sum_{j=1}^K z_{nj} \\gamma(z_{nj}) = \\gamma(z_{nk}) \\tag{30}$$\n",
    "\n",
    "<h6>Maximization Step</h6>\n",
    "\n",
    "Find the updated parameters $\\theta^*$<br>\n",
    "$$\\theta^* = argmax_\\theta \\mathcal{Q}(\\theta^*,\\theta) \\tag{31}$$\n",
    "<br>Here,<br> \n",
    "$$\\mathcal{Q}(\\theta^*,\\theta) = \\mathbb{E}[\\log p(\\mathbf{X},\\mathbf{Z}|\\theta^*)] = \\sum_{\\mathbf{Z}} p(\\mathbf{Z}|\\mathbf{X},\\theta)\\log p(\\mathbf{X},\\mathbf{Z}|\\theta^*) \\tag{32}$$\n",
    "\n",
    "We already calculated $p(\\mathbf{Z}|\\mathbf{X},\\theta)$. $p(\\mathbf{X},\\mathbf{Z}|\\theta^*)$ is the complete likelihood of the model, given by<br>\n",
    "$$ p(\\mathbf{X},\\mathbf{Z}|\\theta^*) = \\prod_{n=1}^N\\prod_{k=1}^K \\pi^{z_{nk}}\\mathcal{N}(\\mathbf{x}_n|\\mu_k,\\Sigma_k)^{z_{nk}} \\tag{33}$$\n",
    "<br>Taking log on both sides,<br>\n",
    "$$\\log p(\\mathbf{X},\\mathbf{Z}|\\theta^*) = \\sum_{n=1}^N\\sum_{k=1}^K z_{nk}[\\log \\pi_k + \\log\\mathcal{N}(\\mathbf{x}_n|\\mu_k,\\Sigma_k)] \\tag{34}$$\n",
    "<br>Using equations $(30)$ and $(34)$ in $(32)$, and applying a Lagrange multiplier for mixing coefficients $pi$, we get<br>\n",
    "$$\\mathcal{Q}(\\theta^*,\\theta) = \\sum_{n=1}^N\\sum_{k=1}^K \\gamma(z_{nk})[\\log \\pi_k + \\log\\mathcal{N}(\\mathbf{x}_n|\\mu_k,\\Sigma_k)] - \\lambda \\left( \\sum_{k=1}^K\\pi_k - 1\\right) \\tag{35}$$\n",
    "<br>Now, to find parameters using maximum likelihood, we differentiate $\\mathcal{Q}$ wrt $\\pi$ and equate it to zero.\n",
    "$$\\frac {\\partial\\mathcal{Q}(\\theta^*,\\theta)}{\\partial \\pi_k} = \\sum_{n=1}^N \\frac{\\gamma(z_{nk})}{\\pi_k} - \\lambda = 0 \\tag{36}$$\n",
    "<br>Rearranging terms and summing over both sides,\n",
    "$$\\sum_{k=1}^K\\sum_{n=1}^N \\gamma(z_{nk}) = \\sum_{k=1}^K\\pi_k\\lambda \\tag{37}$$\n",
    "<br> From equation $(19)$, we know that summing probabilities over $\\pi_k$ will give us one. Further, sum of probabilities $\\gamma$ over k is also one. Therefore, $\\lambda = N$, Solving for $\\pi$\n",
    "$$\\pi_k = \\frac{\\sum_{n=1}^N \\gamma(z_{nk})}{N} \\tag{38}$$\n",
    "<br>Similarly, $\\mu$ and $\\Sigma$ can be computed taking log of equation $(20)$ and equating it to zero.<br>\n",
    "$$ \\mu_k^* = \\frac{\\sum_{n=1}^N \\gamma(z_{nk})\\mathbf{x}_n}{\\sum_{n=1}^N \\gamma(z_{nk})} \\tag{39}$$\n",
    "$$ \\Sigma_k^* = \\frac{\\sum_{n=1}^N \\gamma(z_{nk})(\\mathbf{x}_n - \\mu_k)(\\mathbf{x}_n - \\mu_k)^T}{\\sum_{n=1}^N \\gamma(z_{nk})} \\tag{40}$$\n",
    "\n",
    "Now, we can use these values to determine $\\gamma$ in the next EM iteration, and repeat until we converge on a likelihod value[8].\n",
    "\n",
    "<h4><u>Solution to Problem 3, part b)</u></h4><br>"
   ]
  },
  {
   "cell_type": "code",
   "execution_count": 13,
   "metadata": {},
   "outputs": [],
   "source": [
    "#initialize everything\n",
    "prng = np.random.RandomState(42) #seeding prng for repeatable results\n",
    "num_clusters = 3 #given\n",
    "mu1 = np.array([10, 3])\n",
    "mu2 = np.array([1, 1])\n",
    "mu3 = np.array([5, 4])\n",
    "cov1 = np.array([[1, 0],\n",
    "                [0, 1]])\n",
    "cov2 = np.array([[1.5, 0],\n",
    "                [0, 1.5]])\n",
    "cov3 = np.array([[2, 0],\n",
    "                [0, 2]])\n",
    "#sample from the given distributions, 100 samples each\n",
    "gaussian1 = prng.multivariate_normal(mu1, cov1, 100)\n",
    "gaussian2 = prng.multivariate_normal(mu2, cov2, 100)\n",
    "gaussian3 = prng.multivariate_normal(mu3, cov3, 100)\n",
    "gaussian_mixture = np.concatenate((gaussian1, gaussian2, gaussian3))\n",
    "#prng.shuffle(gaussian_mixture)\n",
    "#combining all 3 gaussians into one"
   ]
  },
  {
   "cell_type": "markdown",
   "metadata": {},
   "source": [
    "Now, we plot the three gaussian distributions, coded by color."
   ]
  },
  {
   "cell_type": "code",
   "execution_count": 14,
   "metadata": {},
   "outputs": [
    {
     "data": {
      "text/plain": [
       "Text(0.5, 1.0, 'Gaussian Mixture')"
      ]
     },
     "execution_count": 14,
     "metadata": {},
     "output_type": "execute_result"
    },
    {
     "data": {
      "image/png": "[encoded data removed]",
      "text/plain": [
       "<Figure size 432x288 with 1 Axes>"
      ]
     },
     "metadata": {
      "needs_background": "light"
     },
     "output_type": "display_data"
    }
   ],
   "source": [
    "plt.scatter(gaussian1[:,0],gaussian1[:,1], c = 'red')\n",
    "plt.scatter(gaussian2[:,0],gaussian2[:,1], c = 'blue')\n",
    "plt.scatter(gaussian3[:,0],gaussian3[:,1], c = 'green')\n",
    "plt.title('Gaussian Mixture')"
   ]
  },
  {
   "cell_type": "code",
   "execution_count": 15,
   "metadata": {},
   "outputs": [],
   "source": [
    "#Initial values to start with, as specified in the problem\n",
    "mu1_initial = np.array([3, 5])\n",
    "mu2_initial = np.array([2, 0.4])\n",
    "mu3_initial = np.array([4, 3])\n",
    "mu_initial = np.stack((mu1_initial, mu2_initial, mu3_initial),axis=0)\n",
    "cov1_initial = np.array([[1, 0],\n",
    "                          [0, 1]])\n",
    "cov2_initial = np.array([[1, 0],\n",
    "                          [0, 1]])\n",
    "cov3_initial = np.array([[1, 0],\n",
    "                          [0, 1]])\n",
    "cov_initial = np.stack((cov1_initial, cov2_initial, cov3_initial))\n",
    "pi = np.repeat(1/num_clusters, 3)"
   ]
  },
  {
   "cell_type": "markdown",
   "metadata": {},
   "source": [
    "We define functions for expectation step, maximization step, and then combine them into a single function to discern the GMM."
   ]
  },
  {
   "cell_type": "code",
   "execution_count": 16,
   "metadata": {},
   "outputs": [],
   "source": [
    "#The functions and code below are adapted from [8] and [9]\n",
    "def expectation(X, n_clusters, pie, mean, var):\n",
    "    gamma_nk = np.zeros((X.shape[0], n_clusters))\n",
    "    for cluster in range(n_clusters):\n",
    "        #using equation (29)\n",
    "        gamma_nk[:,cluster] = pie[cluster] * multivariate_normal.pdf(X, mean=mean[cluster], cov=var[cluster])\n",
    "    likelihood = np.sum(np.log(np.sum(gamma_nk,axis=1)))\n",
    "    gamma_nk /= np.sum(gamma_nk,axis=1).reshape(-1,1)\n",
    "    return gamma_nk, likelihood"
   ]
  },
  {
   "cell_type": "code",
   "execution_count": 17,
   "metadata": {},
   "outputs": [],
   "source": [
    "def maximization(X, n_clusters, gamma_nk):\n",
    "    N = float(X.shape[0])\n",
    "    cov_k = np.zeros((n_clusters, X.shape[1], X.shape[1]))\n",
    "    mu_k = np.zeros((n_clusters, X.shape[1]))\n",
    "    N_k = np.sum(gamma_nk, axis=0)\n",
    "    pi_k = N_k / N\n",
    "    for cluster in range(n_clusters):\n",
    "        mu_k[cluster] = np.dot(gamma_nk[:,cluster].reshape(1,-1), X) / N_k[cluster]\n",
    "        for i in range(X.shape[0]):\n",
    "            temp = (X[i]-mu_k[cluster]).reshape(-1,1)\n",
    "            cov_k[cluster] += gamma_nk[i, cluster] * np.dot(temp, temp.T)\n",
    "        cov_k[cluster] /= N_k[cluster]\n",
    "    return pi_k, mu_k, cov_k"
   ]
  },
  {
   "cell_type": "code",
   "execution_count": 18,
   "metadata": {},
   "outputs": [],
   "source": [
    "def learn_gmm(mixture, n_clusters, pi_init, mu_init, cov_init, epochs):\n",
    "    likelihoods = np.zeros((epochs, 2))\n",
    "    pi_pred = pi_init\n",
    "    mu_pred = mu_init\n",
    "    cov_pred = cov_init\n",
    "    time_start = perf_counter()\n",
    "    for epoch in range(0, epochs):\n",
    "        gamma, likelihoods[epoch, 1] = expectation(mixture, n_clusters, pi_pred, mu_pred, cov_pred)\n",
    "        pi_pred, mu_pred, cov_pred, = maximization(mixture, n_clusters, gamma)\n",
    "        likelihoods[epoch, 0] = epoch\n",
    "        if(epoch) % (epochs/10) == 0:\n",
    "            print(\"[epoch\\t likelihood] = \", likelihoods[epoch], \"elapsed time \", perf_counter()-time_start)\n",
    "    return pi_pred, mu_pred, cov_pred, likelihoods, gamma"
   ]
  },
  {
   "cell_type": "code",
   "execution_count": 19,
   "metadata": {},
   "outputs": [
    {
     "name": "stdout",
     "output_type": "stream",
     "text": [
      "[epoch\t likelihood] =  [    0.         -3070.82338547] elapsed time  0.010134726999998733\n",
      "[epoch\t likelihood] =  [    5.         -1286.03995708] elapsed time  0.04816481199999956\n",
      "[epoch\t likelihood] =  [   10.         -1284.76439323] elapsed time  0.07739078899999896\n",
      "[epoch\t likelihood] =  [   15.         -1280.94073775] elapsed time  0.10656391499999884\n",
      "[epoch\t likelihood] =  [   20.         -1265.72504439] elapsed time  0.13565479599999897\n",
      "[epoch\t likelihood] =  [   25.         -1242.66070715] elapsed time  0.1642781959999997\n",
      "[epoch\t likelihood] =  [   30.         -1242.15491302] elapsed time  0.19271275300000035\n",
      "[epoch\t likelihood] =  [   35.         -1242.15334202] elapsed time  0.22511413700000027\n",
      "[epoch\t likelihood] =  [   40.         -1242.15324699] elapsed time  0.2576505949999994\n",
      "[epoch\t likelihood] =  [   45.        -1242.1532395] elapsed time  0.2913488879999999\n",
      "\n",
      "Predicted pi\n",
      " [0.33902709 0.33041576 0.33055715] \n",
      "Predicted means\n",
      " [[4.90655839 3.8084069 ]\n",
      " [1.17141782 1.01662984]\n",
      " [9.90880795 3.05294277]] \n",
      "Predicted variances\n",
      " [[[ 2.22956641  0.05826512]\n",
      "  [ 0.05826512  1.85215067]]\n",
      "\n",
      " [[ 1.68416715 -0.12198859]\n",
      "  [-0.12198859  1.11487154]]\n",
      "\n",
      " [[ 0.67501341  0.02508352]\n",
      "  [ 0.02508352  1.05013145]]]\n"
     ]
    }
   ],
   "source": [
    "pi_predicted, mu_predicted, cov_predicted, likelihood_b, gamma = learn_gmm(gaussian_mixture, 3, pi, mu_initial, cov_initial, 50)\n",
    "print(\"\\nPredicted pi\\n\", pi_predicted, \"\\nPredicted means\\n\", mu_predicted, \"\\nPredicted variances\\n\", cov_predicted)"
   ]
  },
  {
   "cell_type": "markdown",
   "metadata": {},
   "source": [
    "Our Gaussian Mixture Model converged in $< 25$ epochs, and our inferred attributes are close to the ones which the distribution was actually generated from. The error would go down as we collect more samples. Let's plot the log-likelihood and our clusters."
   ]
  },
  {
   "cell_type": "code",
   "execution_count": 20,
   "metadata": {},
   "outputs": [
    {
     "data": {
      "text/plain": [
       "[<matplotlib.lines.Line2D at 0x1a153232b0>]"
      ]
     },
     "execution_count": 20,
     "metadata": {},
     "output_type": "execute_result"
    },
    {
     "data": {
      "image/png": "[encoded data removed]",
      "text/plain": [
       "<Figure size 432x288 with 1 Axes>"
      ]
     },
     "metadata": {
      "needs_background": "light"
     },
     "output_type": "display_data"
    }
   ],
   "source": [
    "plt.plot(likelihood_b[:,0],likelihood_b[:,1])"
   ]
  },
  {
   "cell_type": "code",
   "execution_count": 21,
   "metadata": {},
   "outputs": [],
   "source": [
    "gamma = minmax_scale(gamma, feature_range=(0, 1), axis=0, copy=True)"
   ]
  },
  {
   "cell_type": "code",
   "execution_count": 22,
   "metadata": {},
   "outputs": [
    {
     "data": {
      "text/plain": [
       "<matplotlib.collections.PathCollection at 0x1a153f0630>"
      ]
     },
     "execution_count": 22,
     "metadata": {},
     "output_type": "execute_result"
    },
    {
     "data": {
      "image/png": "[encoded data removed]",
      "text/plain": [
       "<Figure size 432x288 with 1 Axes>"
      ]
     },
     "metadata": {
      "needs_background": "light"
     },
     "output_type": "display_data"
    }
   ],
   "source": [
    "for i in range(gaussian_mixture.shape[0]):\n",
    "    plt.scatter(gaussian_mixture[i,0], gaussian_mixture[i,1], c=gamma[i].reshape(1,-1))\n",
    "plt.scatter(mu_predicted[0,0], mu_predicted[0,1], marker='X', c='black')\n",
    "plt.scatter(mu_predicted[1,0], mu_predicted[1,1], marker='D', c='black')\n",
    "plt.scatter(mu_predicted[2,0], mu_predicted[2,1], marker='^', c='black')"
   ]
  },
  {
   "cell_type": "markdown",
   "metadata": {},
   "source": [
    "Observing carefully, we can see the soft color boundaries between the clusters.\n",
    "<h4><u>Solution to Problem 3, part c)</u></h4><br>"
   ]
  },
  {
   "cell_type": "markdown",
   "metadata": {},
   "source": [
    "Now, we will use a different initialization far from actual mean and study its impact."
   ]
  },
  {
   "cell_type": "code",
   "execution_count": 23,
   "metadata": {},
   "outputs": [
    {
     "name": "stdout",
     "output_type": "stream",
     "text": [
      "[epoch\t likelihood] =  [     0.         -20931.16459524] elapsed time  0.00933519699999863\n",
      "[epoch\t likelihood] =  [    5.         -1265.57456493] elapsed time  0.042722880999999546\n",
      "[epoch\t likelihood] =  [   10.         -1265.14352339] elapsed time  0.07347868999999996\n",
      "[epoch\t likelihood] =  [   15.         -1264.93929046] elapsed time  0.10291442999999845\n",
      "[epoch\t likelihood] =  [   20.         -1264.78516797] elapsed time  0.13239684399999874\n",
      "[epoch\t likelihood] =  [   25.         -1264.67444508] elapsed time  0.1622816339999993\n",
      "[epoch\t likelihood] =  [   30.         -1264.60136944] elapsed time  0.19219983599999857\n",
      "[epoch\t likelihood] =  [   35.         -1264.54770602] elapsed time  0.22549360000000007\n",
      "[epoch\t likelihood] =  [   40.         -1264.49204534] elapsed time  0.25793619699999937\n",
      "[epoch\t likelihood] =  [   45.         -1264.40586041] elapsed time  0.28869364100000006\n",
      "\n",
      "Predicted pi\n",
      " [0.13245021 0.54105555 0.32649424] \n",
      "Predicted means\n",
      " [[3.29622611 4.41301108]\n",
      " [3.05537525 1.96444349]\n",
      " [9.91204268 3.02871618]] \n",
      "Predicted variances\n",
      " [[[4.09838902 2.48563935]\n",
      "  [2.48563935 2.55329318]]\n",
      "\n",
      " [[6.05111872 2.58802974]\n",
      "  [2.58802974 2.49930657]]\n",
      "\n",
      " [[0.67959399 0.03310255]\n",
      "  [0.03310255 1.01168514]]]\n"
     ]
    }
   ],
   "source": [
    "#New initial values for part c\n",
    "mu1_initial = np.array([10, 13])\n",
    "mu2_initial = np.array([11, 12])\n",
    "mu3_initial = np.array([13, 11])\n",
    "mu_initial = np.stack((mu1_initial, mu2_initial, mu3_initial),axis=0)\n",
    "pi = np.repeat(1/num_clusters, 3)\n",
    "pi_predicted, mu_predicted, cov_predicted, likelihood_c, gamma = learn_gmm(gaussian_mixture, 3, pi, mu_initial, cov_initial, 50)\n",
    "print(\"\\nPredicted pi\\n\", pi_predicted, \"\\nPredicted means\\n\", mu_predicted, \"\\nPredicted variances\\n\", cov_predicted)"
   ]
  },
  {
   "cell_type": "markdown",
   "metadata": {},
   "source": [
    "We can clearly see the impact of poor initialization on the inferred means and variances. Let us plot the log-likelihood and how it compares with part b)."
   ]
  },
  {
   "cell_type": "code",
   "execution_count": 24,
   "metadata": {},
   "outputs": [
    {
     "data": {
      "text/plain": [
       "<matplotlib.legend.Legend at 0x1a153095c0>"
      ]
     },
     "execution_count": 24,
     "metadata": {},
     "output_type": "execute_result"
    },
    {
     "data": {
      "image/png": "[encoded data removed]",
      "text/plain": [
       "<Figure size 432x288 with 1 Axes>"
      ]
     },
     "metadata": {
      "needs_background": "light"
     },
     "output_type": "display_data"
    }
   ],
   "source": [
    "plt.plot(likelihood_b[:,0],likelihood_b[:,1], label='Part b', color='green')\n",
    "plt.plot(likelihood_c[:,0],likelihood_c[:,1], label='Part c', color='blue')\n",
    "plt.legend(loc='lower right')"
   ]
  },
  {
   "cell_type": "markdown",
   "metadata": {},
   "source": [
    "We can see that part c) (blue) starts with a much lower log-likelihood and falls slightly short of part b) at convergence. To highlight this, we plot a graph zoomed in on y-axis."
   ]
  },
  {
   "cell_type": "code",
   "execution_count": 25,
   "metadata": {},
   "outputs": [
    {
     "data": {
      "text/plain": [
       "[-2, 50, -1350, -1200]"
      ]
     },
     "execution_count": 25,
     "metadata": {},
     "output_type": "execute_result"
    },
    {
     "data": {
      "image/png": "[encoded data removed]",
      "text/plain": [
       "<Figure size 432x288 with 1 Axes>"
      ]
     },
     "metadata": {
      "needs_background": "light"
     },
     "output_type": "display_data"
    }
   ],
   "source": [
    "plt.plot(likelihood_b[:,0],likelihood_b[:,1], label='Part b', color='green')\n",
    "plt.plot(likelihood_c[:,0],likelihood_c[:,1], label='Part c', color='blue')\n",
    "plt.legend(loc='lower right')\n",
    "plt.axis([-2, 50, -1350, -1200])"
   ]
  },
  {
   "cell_type": "code",
   "execution_count": 27,
   "metadata": {},
   "outputs": [
    {
     "data": {
      "text/plain": [
       "<matplotlib.collections.PathCollection at 0x1a1601d518>"
      ]
     },
     "execution_count": 27,
     "metadata": {},
     "output_type": "execute_result"
    },
    {
     "data": {
      "image/png": "[encoded data removed]",
      "text/plain": [
       "<Figure size 432x288 with 1 Axes>"
      ]
     },
     "metadata": {
      "needs_background": "light"
     },
     "output_type": "display_data"
    }
   ],
   "source": [
    "gamma = minmax_scale(gamma, feature_range=(0, 1), axis=0, copy=True)\n",
    "for i in range(gaussian_mixture.shape[0]):\n",
    "    plt.scatter(gaussian_mixture[i,0], gaussian_mixture[i,1], c=gamma[i].reshape(1,-1))\n",
    "plt.scatter(mu_predicted[0,0], mu_predicted[0,1], marker='X', c='black')\n",
    "plt.scatter(mu_predicted[1,0], mu_predicted[1,1], marker='D', c='black')\n",
    "plt.scatter(mu_predicted[2,0], mu_predicted[2,1], marker='^', c='black')\n",
    "#for some reason this cell requires multiple runs to produce output"
   ]
  },
  {
   "cell_type": "markdown",
   "metadata": {},
   "source": [
    "From the scatter plot, we can also see that blue cluster was identified correctly, but read and green got mixed up. This highlights the importance of good initialization. Typically, centroids from k-means clustering are used for initial means."
   ]
  },
  {
   "cell_type": "markdown",
   "metadata": {},
   "source": [
    "---"
   ]
  },
  {
   "cell_type": "markdown",
   "metadata": {},
   "source": [
    "<h4>References</h4>"
   ]
  },
  {
   "cell_type": "markdown",
   "metadata": {},
   "source": [
    "[1] K. Murphy, Machine Learning: A Probabilistic Perspective. MIT Press.<br>\n",
    "[2] L. Armijo, \"Minimization of functions having Lipschitz continuous first partial derivatives\", Pacific Journal of Mathematics, vol. 16, no. 1, pp. 1-3, 1966. Available: 10.2140/pjm.1966.16.1 [Accessed 13-Nov-2019].<br>\n",
    "[3] T. H. Cormen, C. E. Leiserson, R. R. Rivest, and C. Stein, Introduction to algorithms, 2nd ed. Cambridge, Mass: MIT Press, 2001, p. 735-741.<br>\n",
    "[4] \"GR's Website\", Data.princeton.edu, 2019. [Online]. Available: https://data.princeton.edu/wws509/datasets/#copen. [Accessed: 13-Nov-2019].<br>\n",
    "[5] M. Madsen, “Statistical analysis of multiple contingency tables. Two examples,” Scandinavian Journal of Statistics, pp. 97–106, 1976.<br>\n",
    "[6] N. Qian, \"On the momentum term in gradient descent learning algorithms\", Neural Networks, vol. 12, no. 1, pp. 145-151, 1999. Available: https://doi.org/10.1016/s0893-6080(98)00116-6.<br>\n",
    "[7] Y. Nesterov, “A method for unconstrained convex minimization problem with the rate of convergence O (1/k^ 2),” in Doklady AN USSR, 1983, vol. 269, pp. 543–547.<br>\n",
    "[8] O. Carrasco, \"Gaussian Mixture Models Explained\", Medium, 2019. [Online]. Available: https://towardsdatascience.com/gaussian-mixture-models-explained-6986aaf5a95. [Accessed: 14-Nov-2019].<br>\n",
    "[9] \"Gaussian Mixture Models Implementation\", GitHub, 2019. [Online]. Available: https://github.com/ocontreras309/ML_Notebooks/blob/master/GMM_Implementation.ipynb. [Accessed: 14-Nov-2019].<br>"
   ]
  },
  {
   "cell_type": "markdown",
   "metadata": {},
   "source": [
    "---"
   ]
  }
 ],
 "metadata": {
  "kernelspec": {
   "display_name": "Python 3",
   "language": "python",
   "name": "python3"
  },
  "language_info": {
   "codemirror_mode": {
    "name": "ipython",
    "version": 3
   },
   "file_extension": ".py",
   "mimetype": "text/x-python",
   "name": "python",
   "nbconvert_exporter": "python",
   "pygments_lexer": "ipython3",
   "version": "3.7.3"
  }
 },
 "nbformat": 4,
 "nbformat_minor": 2
}
